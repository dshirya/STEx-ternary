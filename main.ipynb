{
 "cells": [
  {
   "cell_type": "markdown",
   "id": "8fe714a5",
   "metadata": {},
   "source": [
    "Upload the files and process the dataframe"
   ]
  },
  {
   "cell_type": "code",
   "execution_count": null,
   "id": "bb0e93ba",
   "metadata": {},
   "outputs": [],
   "source": [
    "from utils.preprocess import process_csv\n",
    "\n",
    "df = process_csv(\"data/Cd3Y10Ru-hP28_merged.csv\")\n",
    "df"
   ]
  },
  {
   "cell_type": "code",
   "execution_count": null,
   "id": "b0f9e6ae",
   "metadata": {},
   "outputs": [],
   "source": [
    "from utils.feature import process_element_features\n",
    "\n",
    "element_features_excel = \"data/elemental-property-list.xlsx\"\n",
    "\n",
    "# Process the features for each site.\n",
    "df_site_features = process_element_features(df, element_features_excel)\n",
    "\n",
    "df_site_features"
   ]
  },
  {
   "cell_type": "code",
   "execution_count": null,
   "id": "f6085380",
   "metadata": {},
   "outputs": [],
   "source": [
    "from models.plsda import run_pls_da\n",
    "\n",
    "pls_loadings = run_pls_da(df_site_features)"
   ]
  },
  {
   "cell_type": "code",
   "execution_count": null,
   "id": "ef2b77a4",
   "metadata": {},
   "outputs": [],
   "source": [
    "from models.pca import plot_elements_from_plsda_loadings\n",
    "\n",
    "coords, merged_data = plot_elements_from_plsda_loadings(pls_loadings)"
   ]
  }
 ],
 "metadata": {
  "kernelspec": {
   "display_name": "stext",
   "language": "python",
   "name": "python3"
  },
  "language_info": {
   "codemirror_mode": {
    "name": "ipython",
    "version": 3
   },
   "file_extension": ".py",
   "mimetype": "text/x-python",
   "name": "python",
   "nbconvert_exporter": "python",
   "pygments_lexer": "ipython3",
   "version": "3.12.9"
  }
 },
 "nbformat": 4,
 "nbformat_minor": 5
}
